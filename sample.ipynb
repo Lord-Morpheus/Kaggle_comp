{
 "cells": [
  {
   "cell_type": "code",
   "execution_count": 60,
   "metadata": {},
   "outputs": [],
   "source": [
    "import pandas as pd\n",
    "import numpy as np\n",
    "from sklearn.impute import IterativeImputer, SimpleImputer\n",
    "from sklearn.preprocessing import OneHotEncoder,StandardScaler\n",
    "import xgboost as xgb"
   ]
  },
  {
   "cell_type": "code",
   "execution_count": null,
   "metadata": {},
   "outputs": [],
   "source": [
    "train_data=pd.read_csv('datasets/train.csv')\n",
    "print(train_data.info())\n",
    "data=np.array(train_data)"
   ]
  },
  {
   "cell_type": "code",
   "execution_count": null,
   "metadata": {},
   "outputs": [],
   "source": [
    "categorical_data=train_data.select_dtypes(include=['object'])\n",
    "numerical_data=train_data.select_dtypes(exclude=['object'])\n",
    "print(categorical_data.info())\n",
    "print(numerical_data.info())"
   ]
  },
  {
   "cell_type": "code",
   "execution_count": null,
   "metadata": {},
   "outputs": [],
   "source": [
    "cat_col=[]\n",
    "num_col=[]\n",
    "for i in train_data.columns:\n",
    "    if train_data[i].dtype=='object':\n",
    "        cat_col.append(i)\n",
    "    else:\n",
    "        num_col.append(i)\n",
    "\n",
    "print('categorical col: '+str(cat_col))\n",
    "print('numerical col: '+str(num_col))\n"
   ]
  },
  {
   "cell_type": "code",
   "execution_count": null,
   "metadata": {},
   "outputs": [],
   "source": [
    "print(train_data.isnull().sum())\n",
    "print('*'*100)"
   ]
  },
  {
   "cell_type": "code",
   "execution_count": 39,
   "metadata": {},
   "outputs": [],
   "source": [
    "train_data[\"Policy Start Date\"]=pd.to_datetime(train_data[\"Policy Start Date\"])\n",
    "\n",
    "train_data[\"year\"]=train_data[\"Policy Start Date\"].dt.year\n",
    "train_data[\"month\"]=train_data[\"Policy Start Date\"].dt.month\n",
    "train_data[\"day\"]=train_data[\"Policy Start Date\"].dt.day\n",
    "\n",
    "train_data.drop(\"Policy Start Date\",axis=1,inplace=True)"
   ]
  },
  {
   "cell_type": "code",
   "execution_count": null,
   "metadata": {},
   "outputs": [],
   "source": [
    "num_col.append(\"year\")\n",
    "num_col.append(\"month\")\n",
    "num_col.append(\"day\")\n",
    "cat_col.remove(\"Policy Start Date\")"
   ]
  },
  {
   "cell_type": "code",
   "execution_count": null,
   "metadata": {},
   "outputs": [],
   "source": [
    "print(train_data.info())"
   ]
  },
  {
   "cell_type": "code",
   "execution_count": null,
   "metadata": {},
   "outputs": [],
   "source": [
    "print(train_data.isnull().sum())"
   ]
  },
  {
   "cell_type": "code",
   "execution_count": null,
   "metadata": {},
   "outputs": [],
   "source": [
    "num_inputer=SimpleImputer(strategy='mean')\n",
    "cat_inputer=SimpleImputer(strategy='most_frequent')\n",
    "\n",
    "train_data[num_col]=num_inputer.fit_transform(train_data[num_col])\n",
    "train_data[cat_col]=cat_inputer.fit_transform(train_data[cat_col])\n",
    "\n",
    "print(train_data.isnull().sum())\n"
   ]
  },
  {
   "cell_type": "code",
   "execution_count": null,
   "metadata": {},
   "outputs": [],
   "source": [
    "print(train_data.info())"
   ]
  },
  {
   "cell_type": "code",
   "execution_count": null,
   "metadata": {},
   "outputs": [],
   "source": [
    "# encoder=OneHotEncoder(sparse_output=False,handle_unknown='ignore')\n",
    "# for i in train_data.columns:\n",
    "#   # print(i)\n",
    "#   encoded_value=encoder.fit_transform(train_data[[i]])\n",
    "#   encoded_value=pd.DataFrame(encoded_value,columns=encoder.get_feature_names_out([i]))\n",
    "#   train_data.drop(i,axis=1,inplace=True)\n",
    "#   train_data=pd.concat([train_data,encoded_value],axis=1)"
   ]
  },
  {
   "cell_type": "code",
   "execution_count": 61,
   "metadata": {},
   "outputs": [],
   "source": [
    "num=train_data.columns\n",
    "scaler=StandardScaler()\n",
    "train_data[num]=scaler.fit_transform(train_data[num])"
   ]
  },
  {
   "cell_type": "code",
   "execution_count": null,
   "metadata": {},
   "outputs": [],
   "source": [
    "correration_matrix=train_data.corr()\n",
    "print(correration_matrix)"
   ]
  },
  {
   "cell_type": "code",
   "execution_count": null,
   "metadata": {},
   "outputs": [],
   "source": [
    "print(correration_matrix[\"Premium Amount\"])\n",
    "train_data.drop(\"id\",axis=1,inplace=True)"
   ]
  },
  {
   "cell_type": "code",
   "execution_count": null,
   "metadata": {},
   "outputs": [],
   "source": [
    "y=np.log1p(train_data[\"Premium Amount\"])\n",
    "X=train_data.drop(\"Premium Amount\",axis=1)"
   ]
  },
  {
   "cell_type": "markdown",
   "metadata": {},
   "source": [
    "Now implement a regressor"
   ]
  },
  {
   "cell_type": "code",
   "execution_count": null,
   "metadata": {},
   "outputs": [],
   "source": [
    "best_params = {\n",
    "    'colsample_bytree': 0.9,\n",
    "    'learning_rate': 0.01,\n",
    "    'max_depth': 7,\n",
    "    'n_estimators': 500,\n",
    "    'subsample': 0.8\n",
    "}\n",
    "\n",
    "model=xgb.XGBRegressor(**best_params)"
   ]
  },
  {
   "cell_type": "code",
   "execution_count": null,
   "metadata": {},
   "outputs": [],
   "source": [
    "model.fit(X,y)\n",
    "predictions=model.predict(X)\n",
    "\n",
    "accuracy=model.score(X,y)\n",
    "\n",
    "prediction=np.expm1(predictions)"
   ]
  }
 ],
 "metadata": {
  "kernelspec": {
   "display_name": "Python 3",
   "language": "python",
   "name": "python3"
  },
  "language_info": {
   "codemirror_mode": {
    "name": "ipython",
    "version": 3
   },
   "file_extension": ".py",
   "mimetype": "text/x-python",
   "name": "python",
   "nbconvert_exporter": "python",
   "pygments_lexer": "ipython3",
   "version": "3.11.0"
  }
 },
 "nbformat": 4,
 "nbformat_minor": 2
}
